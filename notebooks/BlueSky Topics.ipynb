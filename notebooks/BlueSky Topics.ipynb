{
 "cells": [
  {
   "cell_type": "code",
   "execution_count": 1,
   "id": "2fec141e-00bf-4635-bed5-69955a6676b4",
   "metadata": {},
   "outputs": [],
   "source": [
    "%load_ext autoreload\n",
    "%autoreload 2"
   ]
  },
  {
   "cell_type": "code",
   "execution_count": 2,
   "id": "d80cea04-a1bb-48c0-b10c-d734541e31b9",
   "metadata": {},
   "outputs": [],
   "source": [
    "import os\n",
    "from datetime import datetime, timedelta\n",
    "from pathlib import Path\n",
    "\n",
    "import numpy\n",
    "import pandas\n",
    "from sqlalchemy import select, func\n",
    "\n",
    "from bsky_topics.config import Config\n",
    "from bsky_topics.db import configure_db, async_session\n",
    "from bsky_topics.db.schema import Post, PostEmbedding\n",
    "from bsky_topics.topics import compute_topics, get_indexed_posts_for_date_range"
   ]
  },
  {
   "cell_type": "code",
   "execution_count": 3,
   "id": "9bc83061-da7e-472f-9199-e52029c32225",
   "metadata": {},
   "outputs": [],
   "source": [
    "CONFIG_FILE = \"../env.toml\""
   ]
  },
  {
   "cell_type": "code",
   "execution_count": 4,
   "id": "d4f747c5-7dfd-4a71-b203-e6603038e730",
   "metadata": {},
   "outputs": [
    {
     "data": {
      "text/plain": [
       "<sqlalchemy.ext.asyncio.engine.AsyncEngine at 0x155de4690>"
      ]
     },
     "execution_count": 4,
     "metadata": {},
     "output_type": "execute_result"
    }
   ],
   "source": [
    "config = Config.load(CONFIG_FILE)\n",
    "configure_db(config.db_url)"
   ]
  },
  {
   "cell_type": "code",
   "execution_count": 5,
   "id": "756ba7b4-3834-4c29-98b5-1c81ea124ae1",
   "metadata": {},
   "outputs": [],
   "source": [
    "async with async_session() as session:\n",
    "    exists_qry = select(PostEmbedding).filter(PostEmbedding.post_id == Post.id)\n",
    "    stmt = (select(func.min(Post.indexed_at), func.max(Post.indexed_at))\n",
    "            .filter(exists_qry.exists()))\n",
    "    result = await session.execute(stmt)\n",
    "\n",
    "    date_min, date_max = result.first()"
   ]
  },
  {
   "cell_type": "code",
   "execution_count": 6,
   "id": "fb3ec432-4f01-4d06-b4ec-adbff27466e5",
   "metadata": {},
   "outputs": [],
   "source": [
    "dates = pandas.date_range(date_min, date_max, freq='D', normalize=True)"
   ]
  },
  {
   "cell_type": "code",
   "execution_count": null,
   "id": "6d65f048-3868-4f22-a3a4-88aaa0bb6f5b",
   "metadata": {},
   "outputs": [
    {
     "name": "stdout",
     "output_type": "stream",
     "text": [
      "Loading posts for 2024-11-30 12:00:00 - 15:00:00\n",
      "Computing topics... (num posts: 137812)\n"
     ]
    },
    {
     "name": "stderr",
     "output_type": "stream",
     "text": [
      "/Users/lucas/Projects/atproto/bsky_topics/.venv/lib/python3.12/site-packages/joblib/externals/loky/backend/fork_exec.py:38: DeprecationWarning: This process (pid=55765) is multi-threaded, use of fork() may lead to deadlocks in the child.\n",
      "  pid = os.fork()\n"
     ]
    },
    {
     "name": "stdout",
     "output_type": "stream",
     "text": [
      "Saving model...\n",
      "Loading posts for 2024-11-30 15:00:00 - 18:00:00\n",
      "Computing topics... (num posts: 162421)\n",
      "Saving model...\n",
      "Loading posts for 2024-11-30 18:00:00 - 21:00:00\n",
      "Loading posts for 2024-11-30 21:00:00 - 00:00:00\n",
      "Loading posts for 2024-12-01 00:00:00 - 03:00:00\n",
      "Loading posts for 2024-12-01 03:00:00 - 06:00:00\n",
      "Loading posts for 2024-12-01 06:00:00 - 09:00:00\n",
      "Loading posts for 2024-12-01 09:00:00 - 12:00:00\n",
      "Loading posts for 2024-12-01 12:00:00 - 15:00:00\n",
      "Loading posts for 2024-12-01 15:00:00 - 18:00:00\n",
      "Loading posts for 2024-12-01 18:00:00 - 21:00:00\n",
      "Computing topics... (num posts: 554811)\n"
     ]
    },
    {
     "name": "stderr",
     "output_type": "stream",
     "text": [
      "/Users/lucas/Projects/atproto/bsky_topics/.venv/lib/python3.12/site-packages/joblib/externals/loky/backend/fork_exec.py:38: DeprecationWarning: This process (pid=55765) is multi-threaded, use of fork() may lead to deadlocks in the child.\n",
      "  pid = os.fork()\n"
     ]
    },
    {
     "name": "stdout",
     "output_type": "stream",
     "text": [
      "Saving model...\n",
      "Loading posts for 2024-12-01 21:00:00 - 00:00:00\n",
      "Computing topics... (num posts: 764989)\n"
     ]
    },
    {
     "name": "stderr",
     "output_type": "stream",
     "text": [
      "/Users/lucas/Projects/atproto/bsky_topics/.venv/lib/python3.12/site-packages/joblib/externals/loky/backend/fork_exec.py:38: DeprecationWarning: This process (pid=55765) is multi-threaded, use of fork() may lead to deadlocks in the child.\n",
      "  pid = os.fork()\n"
     ]
    },
    {
     "name": "stdout",
     "output_type": "stream",
     "text": [
      "Saving model...\n",
      "Loading posts for 2024-12-02 00:00:00 - 03:00:00\n",
      "Computing topics... (num posts: 549077)\n"
     ]
    },
    {
     "name": "stderr",
     "output_type": "stream",
     "text": [
      "/Users/lucas/Projects/atproto/bsky_topics/.venv/lib/python3.12/site-packages/joblib/externals/loky/backend/fork_exec.py:38: DeprecationWarning: This process (pid=55765) is multi-threaded, use of fork() may lead to deadlocks in the child.\n",
      "  pid = os.fork()\n"
     ]
    },
    {
     "name": "stdout",
     "output_type": "stream",
     "text": [
      "Saving model...\n",
      "Loading posts for 2024-12-02 03:00:00 - 06:00:00\n",
      "Computing topics... (num posts: 590608)\n"
     ]
    },
    {
     "name": "stderr",
     "output_type": "stream",
     "text": [
      "/Users/lucas/Projects/atproto/bsky_topics/.venv/lib/python3.12/site-packages/joblib/externals/loky/backend/fork_exec.py:38: DeprecationWarning: This process (pid=55765) is multi-threaded, use of fork() may lead to deadlocks in the child.\n",
      "  pid = os.fork()\n"
     ]
    },
    {
     "name": "stdout",
     "output_type": "stream",
     "text": [
      "Saving model...\n",
      "Loading posts for 2024-12-02 06:00:00 - 09:00:00\n",
      "Computing topics... (num posts: 748896)\n"
     ]
    },
    {
     "name": "stderr",
     "output_type": "stream",
     "text": [
      "/Users/lucas/Projects/atproto/bsky_topics/.venv/lib/python3.12/site-packages/joblib/externals/loky/backend/fork_exec.py:38: DeprecationWarning: This process (pid=55765) is multi-threaded, use of fork() may lead to deadlocks in the child.\n",
      "  pid = os.fork()\n"
     ]
    },
    {
     "name": "stdout",
     "output_type": "stream",
     "text": [
      "Saving model...\n",
      "Loading posts for 2024-12-02 09:00:00 - 12:00:00\n",
      "Computing topics... (num posts: 161688)\n"
     ]
    },
    {
     "name": "stderr",
     "output_type": "stream",
     "text": [
      "/Users/lucas/Projects/atproto/bsky_topics/.venv/lib/python3.12/site-packages/joblib/externals/loky/backend/fork_exec.py:38: DeprecationWarning: This process (pid=55765) is multi-threaded, use of fork() may lead to deadlocks in the child.\n",
      "  pid = os.fork()\n"
     ]
    },
    {
     "name": "stdout",
     "output_type": "stream",
     "text": [
      "Saving model...\n",
      "Loading posts for 2024-12-02 12:00:00 - 15:00:00\n",
      "Computing topics... (num posts: 1733444)\n"
     ]
    }
   ],
   "source": [
    "embedding_model = \"sentence-transformers/all-MiniLM-L6-v2\"\n",
    "output_dir = Path(\"saved_models\")\n",
    "output_dir.mkdir(exist_ok=True)\n",
    "\n",
    "start_date = datetime(year=dates[0].year, month=dates[0].month, day=dates[0].day, hour=12)\n",
    "\n",
    "async with async_session() as session:\n",
    "    # Process posts in blocks of 3 hours for memory reasons\n",
    "    curr_date = start_date\n",
    "    while curr_date < dates[-1]:\n",
    "        block_end = curr_date + timedelta(hours=3)\n",
    "    \n",
    "        stmt = (select(Post.post_text, PostEmbedding.embedding)\n",
    "                .join(PostEmbedding)\n",
    "                .filter(Post.indexed_at >= curr_date, Post.indexed_at < block_end))\n",
    "    \n",
    "        print(\"Loading posts for\", curr_date, \"-\", block_end.strftime(\"%H:%M:%S\"))\n",
    "        post_texts = []\n",
    "        post_embeddings = []\n",
    "        for post_text, post_embedding in await session.execute(stmt):\n",
    "            post_texts.append(post_text)\n",
    "            post_embeddings.append(post_embedding)\n",
    "\n",
    "        if not post_texts:\n",
    "            curr_date = block_end\n",
    "            continue\n",
    "    \n",
    "        post_embeddings = numpy.vstack(post_embeddings)\n",
    "        print(f\"Computing topics... (num posts: {len(post_texts)})\")\n",
    "        topic_model = compute_topics(post_texts, post_embeddings)\n",
    "    \n",
    "        print(\"Saving model...\")\n",
    "        topic_model.save(output_dir / curr_date.strftime(\"%Y-%m-%d %H%M%S\"), serialization=\"safetensors\", save_ctfidf=True, save_embedding_model=embedding_model)\n",
    "\n",
    "        curr_date = block_end"
   ]
  },
  {
   "cell_type": "code",
   "execution_count": null,
   "id": "9e9b0285-3e9c-4fe7-89fb-e4b98fca59bc",
   "metadata": {},
   "outputs": [],
   "source": []
  }
 ],
 "metadata": {
  "kernelspec": {
   "display_name": "bsky_topics",
   "language": "python",
   "name": "bsky_topics"
  },
  "language_info": {
   "codemirror_mode": {
    "name": "ipython",
    "version": 3
   },
   "file_extension": ".py",
   "mimetype": "text/x-python",
   "name": "python",
   "nbconvert_exporter": "python",
   "pygments_lexer": "ipython3",
   "version": "3.12.0"
  }
 },
 "nbformat": 4,
 "nbformat_minor": 5
}
